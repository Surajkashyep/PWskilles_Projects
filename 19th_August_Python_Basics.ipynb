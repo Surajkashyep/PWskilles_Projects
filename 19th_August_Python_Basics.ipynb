{
 "cells": [
  {
   "cell_type": "code",
   "execution_count": 1,
   "id": "90a8b7b0",
   "metadata": {},
   "outputs": [
    {
     "name": "stdout",
     "output_type": "stream",
     "text": [
      "New Value of x after swapping: 2\n",
      "New Value of after swapping: 1\n"
     ]
    }
   ],
   "source": [
    "# 1. Declare two variables, `x` and `y`, and assign them integer values. Swap the values of these variables without using any temporary variable.\n",
    "\n",
    "x=1\n",
    "y=2\n",
    "x,y = y,x\n",
    "print(\"New Value of x after swapping:\", x)\n",
    "print(\"New Value of after swapping:\", y)"
   ]
  },
  {
   "cell_type": "code",
   "execution_count": 7,
   "id": "edeb371c",
   "metadata": {},
   "outputs": [
    {
     "name": "stdout",
     "output_type": "stream",
     "text": [
      "Enter the value of Base:10\n",
      "Enter the value of Height:12.4\n",
      "Area_of_triangle: 62.0\n"
     ]
    }
   ],
   "source": [
    "# Create a program that calculates the area of a rectangle. Take the length and width as inputs from the user and store them in variables. Calculate and display the area.\n",
    "\n",
    "base = float(input('Enter the value of Base:'))\n",
    "height = float(input('Enter the value of Height:'))\n",
    "Area=base*height/2\n",
    "print(\"Area_of_triangle:\",Area)"
   ]
  },
  {
   "cell_type": "code",
   "execution_count": null,
   "id": "8eebc125",
   "metadata": {},
   "outputs": [],
   "source": [
    "# Write a Python program that converts temperatures from Celsius to Fahrenheit. Take the temperature in Celsius as input, store it in a variable, convert it to Fahrenheit, and display the result.\n",
    "c= float(input('entre the value:\"'))\n",
    "f=(c*(5/9))+32\n",
    "print(\"Celsius_to_Fahrenheit:\",f)"
   ]
  },
  {
   "cell_type": "code",
   "execution_count": null,
   "id": "9318a48b",
   "metadata": {},
   "outputs": [],
   "source": []
  }
 ],
 "metadata": {
  "kernelspec": {
   "display_name": "Python 3 (ipykernel)",
   "language": "python",
   "name": "python3"
  },
  "language_info": {
   "codemirror_mode": {
    "name": "ipython",
    "version": 3
   },
   "file_extension": ".py",
   "mimetype": "text/x-python",
   "name": "python",
   "nbconvert_exporter": "python",
   "pygments_lexer": "ipython3",
   "version": "3.9.7"
  }
 },
 "nbformat": 4,
 "nbformat_minor": 5
}
